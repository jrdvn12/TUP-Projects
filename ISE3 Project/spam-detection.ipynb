{
 "cells": [
  {
   "cell_type": "code",
   "execution_count": 1,
   "id": "8ae408b9",
   "metadata": {},
   "outputs": [
    {
     "data": {
      "text/html": [
       "<div>\n",
       "<style scoped>\n",
       "    .dataframe tbody tr th:only-of-type {\n",
       "        vertical-align: middle;\n",
       "    }\n",
       "\n",
       "    .dataframe tbody tr th {\n",
       "        vertical-align: top;\n",
       "    }\n",
       "\n",
       "    .dataframe thead th {\n",
       "        text-align: right;\n",
       "    }\n",
       "</style>\n",
       "<table border=\"1\" class=\"dataframe\">\n",
       "  <thead>\n",
       "    <tr style=\"text-align: right;\">\n",
       "      <th></th>\n",
       "      <th>label</th>\n",
       "      <th>sms</th>\n",
       "    </tr>\n",
       "  </thead>\n",
       "  <tbody>\n",
       "    <tr>\n",
       "      <th>0</th>\n",
       "      <td>spam</td>\n",
       "      <td>Happy Wednesday! Hali na at \\nmagsaya kasama a...</td>\n",
       "    </tr>\n",
       "    <tr>\n",
       "      <th>1</th>\n",
       "      <td>spam</td>\n",
       "      <td>Hi JERARD B.,  Experience the \\nhighest-winnin...</td>\n",
       "    </tr>\n",
       "    <tr>\n",
       "      <th>2</th>\n",
       "      <td>spam</td>\n",
       "      <td>Stress kana ba agad dahil sa \\nulan? Ako bahal...</td>\n",
       "    </tr>\n",
       "    <tr>\n",
       "      <th>3</th>\n",
       "      <td>spam</td>\n",
       "      <td>JERARD B.! Experience, JOIN \\nAND WIN! W+ Givi...</td>\n",
       "    </tr>\n",
       "    <tr>\n",
       "      <th>4</th>\n",
       "      <td>ham</td>\n",
       "      <td>DTI n pp AK s josh 10 \\npamdesal po San po kay...</td>\n",
       "    </tr>\n",
       "  </tbody>\n",
       "</table>\n",
       "</div>"
      ],
      "text/plain": [
       "  label                                                sms\n",
       "0  spam  Happy Wednesday! Hali na at \\nmagsaya kasama a...\n",
       "1  spam  Hi JERARD B.,  Experience the \\nhighest-winnin...\n",
       "2  spam  Stress kana ba agad dahil sa \\nulan? Ako bahal...\n",
       "3  spam  JERARD B.! Experience, JOIN \\nAND WIN! W+ Givi...\n",
       "4   ham  DTI n pp AK s josh 10 \\npamdesal po San po kay..."
      ]
     },
     "execution_count": 1,
     "metadata": {},
     "output_type": "execute_result"
    }
   ],
   "source": [
    "# Import dependencies\n",
    "\n",
    "import pandas as pd\n",
    "import matplotlib.pyplot as plt\n",
    "import pickle\n",
    "from sklearn.naive_bayes import MultinomialNB\n",
    "from sklearn.feature_extraction.text import TfidfVectorizer\n",
    "from sklearn.model_selection import train_test_split\n",
    "from sklearn.metrics import accuracy_score, precision_score, recall_score, f1_score, confusion_matrix, ConfusionMatrixDisplay\n",
    "\n",
    "# Read the dataset\n",
    "\n",
    "df = pd.read_csv('local_sms.csv')\n",
    "df.head()"
   ]
  },
  {
   "cell_type": "code",
   "execution_count": 2,
   "id": "6fbdaa85",
   "metadata": {
    "scrolled": true
   },
   "outputs": [
    {
     "data": {
      "text/plain": [
       "ham     200\n",
       "spam    100\n",
       "Name: label, dtype: int64"
      ]
     },
     "execution_count": 2,
     "metadata": {},
     "output_type": "execute_result"
    }
   ],
   "source": [
    "# Check ham and spam count in the dataset\n",
    "\n",
    "df.label.value_counts()"
   ]
  },
  {
   "cell_type": "code",
   "execution_count": 3,
   "id": "3ba1a69a",
   "metadata": {},
   "outputs": [
    {
     "data": {
      "image/png": "[encoded data removed]",
      "text/plain": [
       "<Figure size 640x480 with 1 Axes>"
      ]
     },
     "metadata": {},
     "output_type": "display_data"
    }
   ],
   "source": [
    "# Plot number of Ham and Spam in the dataset\n",
    "\n",
    "ham_count = df.label.value_counts().ham\n",
    "spam_count = df.label.value_counts().spam\n",
    "\n",
    "x = [\"ham\", \"spam\"]\n",
    "h = [ham_count, spam_count]\n",
    "\n",
    "plt.bar(x, h)\n",
    "plt.ylabel(\"Number of SMS\")\n",
    "plt.title(\"Ham and Spam count in the dataset\")\n",
    "plt.show()"
   ]
  },
  {
   "cell_type": "code",
   "execution_count": 4,
   "id": "833381e1",
   "metadata": {},
   "outputs": [],
   "source": [
    "# Set spam sms as 0 and ham sms as 1\n",
    "\n",
    "df.loc[df['label'] == 'spam', 'label',] = 0\n",
    "df.loc[df['label'] == 'ham', 'label',] = 1"
   ]
  },
  {
   "cell_type": "code",
   "execution_count": 5,
   "id": "0d56923c",
   "metadata": {
    "scrolled": true
   },
   "outputs": [
    {
     "name": "stdout",
     "output_type": "stream",
     "text": [
      "0      Happy Wednesday! Hali na at \\nmagsaya kasama a...\n",
      "1      Hi JERARD B.,  Experience the \\nhighest-winnin...\n",
      "2      Stress kana ba agad dahil sa \\nulan? Ako bahal...\n",
      "3      JERARD B.! Experience, JOIN \\nAND WIN! W+ Givi...\n",
      "4      DTI n pp AK s josh 10 \\npamdesal po San po kay...\n",
      "                             ...                        \n",
      "295    Hindi ko naman kailangan ng mahal na cellphone...\n",
      "296    JARED B., No patch-up, stable server & easy E-...\n",
      "297    Hello JARED B., Play the Popular Online Casino...\n",
      "298    CYRILLE JAYE H.! Get your WELCOME BONUS up to ...\n",
      "299    CYRILLE JAYE H. Earn easy money tonight! here ...\n",
      "Name: sms, Length: 300, dtype: object\n"
     ]
    }
   ],
   "source": [
    "# Set 'sms' column as X and 'label' column as Y\n",
    "\n",
    "X = df['sms']\n",
    "Y = df['label']\n",
    "\n",
    "print(X)"
   ]
  },
  {
   "cell_type": "code",
   "execution_count": 6,
   "id": "58246118",
   "metadata": {
    "scrolled": true
   },
   "outputs": [
    {
     "name": "stdout",
     "output_type": "stream",
     "text": [
      "0      0\n",
      "1      0\n",
      "2      0\n",
      "3      0\n",
      "4      1\n",
      "      ..\n",
      "295    1\n",
      "296    0\n",
      "297    0\n",
      "298    0\n",
      "299    0\n",
      "Name: label, Length: 300, dtype: object\n"
     ]
    }
   ],
   "source": [
    "print(Y)"
   ]
  },
  {
   "cell_type": "code",
   "execution_count": 7,
   "id": "b3e70898",
   "metadata": {
    "scrolled": true
   },
   "outputs": [],
   "source": [
    "# Split dataset to training set (80%) and testing set (20%)\n",
    "\n",
    "X_train, X_test, Y_train, Y_test = train_test_split(X, Y, test_size=0.2)"
   ]
  },
  {
   "cell_type": "code",
   "execution_count": 8,
   "id": "182afab4",
   "metadata": {
    "scrolled": true
   },
   "outputs": [],
   "source": [
    "# Convert the SMS to a numerical representation using TF-IDF\n",
    "\n",
    "vectorizer = TfidfVectorizer()\n",
    "\n",
    "X_train_features = vectorizer.fit_transform(X_train)\n",
    "X_test_features = vectorizer.transform(X_test)\n",
    "\n",
    "pickle.dump(vectorizer, open(\"vectorizer.pkl\", \"wb\"))\n",
    "\n",
    "# Convert Y_train and Y_test values as integers\n",
    "\n",
    "Y_train = Y_train.astype('int')\n",
    "Y_test = Y_test.astype('int')"
   ]
  },
  {
   "cell_type": "code",
   "execution_count": 9,
   "id": "053612e1",
   "metadata": {},
   "outputs": [
    {
     "name": "stdout",
     "output_type": "stream",
     "text": [
      "259    Para sa akin kong mahal mo ang isang tao\\nWala...\n",
      "278    Ang Love ay inumpisahan ni Adan at Eba,\\nSinun...\n",
      "74     Special Daily Bonus 1290PHP for all! Come to r...\n",
      "134    Good day! We accept sangla Or/Cr (w/o taking y...\n",
      "207    Yung feeling na may naalala kang nakakakilig n...\n",
      "                             ...                        \n",
      "194    Pag nagtampo ang isang tao, Hindi galit yan na...\n",
      "167    Sa tingin ko mawawala ang\\npangit sa mundo kap...\n",
      "258    Hindi naman talaga distansya ang nakakasira sa...\n",
      "175    virus ka ba? kung virus k man d kita\\nhahayaan...\n",
      "220    Hindi ka biniyayaan ng MAGANDANG MUKHA,\\nPara ...\n",
      "Name: sms, Length: 240, dtype: object\n"
     ]
    }
   ],
   "source": [
    "print(X_train)"
   ]
  },
  {
   "cell_type": "code",
   "execution_count": 10,
   "id": "f8112e3d",
   "metadata": {
    "scrolled": true
   },
   "outputs": [
    {
     "name": "stdout",
     "output_type": "stream",
     "text": [
      "  (0, 694)\t0.24763011783308525\n",
      "  (0, 1246)\t0.24763011783308525\n",
      "  (0, 1106)\t0.2002421116628513\n",
      "  (0, 689)\t0.178816339910928\n",
      "  (0, 216)\t0.24763011783308525\n",
      "  (0, 681)\t0.09748906167651453\n",
      "  (0, 150)\t0.20845282093446954\n",
      "  (0, 1626)\t0.24763011783308525\n",
      "  (0, 1182)\t0.27592421269527473\n",
      "  (0, 1117)\t0.23029388778097934\n",
      "  (0, 569)\t0.10915587285183241\n",
      "  (0, 1013)\t0.17666572745036915\n",
      "  (0, 278)\t0.24763011783308525\n",
      "  (0, 430)\t0.24763011783308525\n",
      "  (0, 1650)\t0.19406647798272064\n",
      "  (0, 1532)\t0.16759858737117891\n",
      "  (0, 641)\t0.3174413495249212\n",
      "  (0, 148)\t0.08937575455403679\n",
      "  (0, 992)\t0.10080517289340508\n",
      "  (0, 887)\t0.15368469568179025\n",
      "  (0, 744)\t0.2006574067574378\n",
      "  (0, 123)\t0.18332117670533182\n",
      "  (0, 1380)\t0.18764396155665547\n",
      "  (0, 1235)\t0.13184362883528047\n",
      "  (1, 353)\t0.15403754847328968\n",
      "  :\t:\n",
      "  (238, 1292)\t0.25116180832742835\n",
      "  (238, 1066)\t0.25116180832742835\n",
      "  (238, 958)\t0.25116180832742835\n",
      "  (238, 533)\t0.25116180832742835\n",
      "  (238, 1637)\t0.5023236166548567\n",
      "  (238, 191)\t0.1583552833313206\n",
      "  (238, 946)\t0.17723337137858253\n",
      "  (238, 739)\t0.16378313250406537\n",
      "  (238, 743)\t0.2540780977724913\n",
      "  (238, 715)\t0.16378313250406537\n",
      "  (238, 964)\t0.21142576644148375\n",
      "  (238, 926)\t0.1734600191003795\n",
      "  (238, 756)\t0.1323020073878253\n",
      "  (238, 681)\t0.19775889328067936\n",
      "  (239, 704)\t0.38318835298418696\n",
      "  (239, 935)\t0.38318835298418696\n",
      "  (239, 248)\t0.38318835298418696\n",
      "  (239, 660)\t0.32256453224574166\n",
      "  (239, 854)\t0.32256453224574166\n",
      "  (239, 1004)\t0.35636188494890875\n",
      "  (239, 779)\t0.18837775997166997\n",
      "  (239, 1106)\t0.3098590980677225\n",
      "  (239, 681)\t0.15085674272859506\n",
      "  (239, 569)\t0.168910225875023\n",
      "  (239, 1235)\t0.2040177641836893\n"
     ]
    }
   ],
   "source": [
    "print(X_train_features)"
   ]
  },
  {
   "cell_type": "code",
   "execution_count": 11,
   "id": "7213e2ce",
   "metadata": {
    "scrolled": true
   },
   "outputs": [
    {
     "data": {
      "text/html": [
       "<style>#sk-container-id-1 {color: black;background-color: white;}#sk-container-id-1 pre{padding: 0;}#sk-container-id-1 div.sk-toggleable {background-color: white;}#sk-container-id-1 label.sk-toggleable__label {cursor: pointer;display: block;width: 100%;margin-bottom: 0;padding: 0.3em;box-sizing: border-box;text-align: center;}#sk-container-id-1 label.sk-toggleable__label-arrow:before {content: \"▸\";float: left;margin-right: 0.25em;color: #696969;}#sk-container-id-1 label.sk-toggleable__label-arrow:hover:before {color: black;}#sk-container-id-1 div.sk-estimator:hover label.sk-toggleable__label-arrow:before {color: black;}#sk-container-id-1 div.sk-toggleable__content {max-height: 0;max-width: 0;overflow: hidden;text-align: left;background-color: #f0f8ff;}#sk-container-id-1 div.sk-toggleable__content pre {margin: 0.2em;color: black;border-radius: 0.25em;background-color: #f0f8ff;}#sk-container-id-1 input.sk-toggleable__control:checked~div.sk-toggleable__content {max-height: 200px;max-width: 100%;overflow: auto;}#sk-container-id-1 input.sk-toggleable__control:checked~label.sk-toggleable__label-arrow:before {content: \"▾\";}#sk-container-id-1 div.sk-estimator input.sk-toggleable__control:checked~label.sk-toggleable__label {background-color: #d4ebff;}#sk-container-id-1 div.sk-label input.sk-toggleable__control:checked~label.sk-toggleable__label {background-color: #d4ebff;}#sk-container-id-1 input.sk-hidden--visually {border: 0;clip: rect(1px 1px 1px 1px);clip: rect(1px, 1px, 1px, 1px);height: 1px;margin: -1px;overflow: hidden;padding: 0;position: absolute;width: 1px;}#sk-container-id-1 div.sk-estimator {font-family: monospace;background-color: #f0f8ff;border: 1px dotted black;border-radius: 0.25em;box-sizing: border-box;margin-bottom: 0.5em;}#sk-container-id-1 div.sk-estimator:hover {background-color: #d4ebff;}#sk-container-id-1 div.sk-parallel-item::after {content: \"\";width: 100%;border-bottom: 1px solid gray;flex-grow: 1;}#sk-container-id-1 div.sk-label:hover label.sk-toggleable__label {background-color: #d4ebff;}#sk-container-id-1 div.sk-serial::before {content: \"\";position: absolute;border-left: 1px solid gray;box-sizing: border-box;top: 0;bottom: 0;left: 50%;z-index: 0;}#sk-container-id-1 div.sk-serial {display: flex;flex-direction: column;align-items: center;background-color: white;padding-right: 0.2em;padding-left: 0.2em;position: relative;}#sk-container-id-1 div.sk-item {position: relative;z-index: 1;}#sk-container-id-1 div.sk-parallel {display: flex;align-items: stretch;justify-content: center;background-color: white;position: relative;}#sk-container-id-1 div.sk-item::before, #sk-container-id-1 div.sk-parallel-item::before {content: \"\";position: absolute;border-left: 1px solid gray;box-sizing: border-box;top: 0;bottom: 0;left: 50%;z-index: -1;}#sk-container-id-1 div.sk-parallel-item {display: flex;flex-direction: column;z-index: 1;position: relative;background-color: white;}#sk-container-id-1 div.sk-parallel-item:first-child::after {align-self: flex-end;width: 50%;}#sk-container-id-1 div.sk-parallel-item:last-child::after {align-self: flex-start;width: 50%;}#sk-container-id-1 div.sk-parallel-item:only-child::after {width: 0;}#sk-container-id-1 div.sk-dashed-wrapped {border: 1px dashed gray;margin: 0 0.4em 0.5em 0.4em;box-sizing: border-box;padding-bottom: 0.4em;background-color: white;}#sk-container-id-1 div.sk-label label {font-family: monospace;font-weight: bold;display: inline-block;line-height: 1.2em;}#sk-container-id-1 div.sk-label-container {text-align: center;}#sk-container-id-1 div.sk-container {/* jupyter's `normalize.less` sets `[hidden] { display: none; }` but bootstrap.min.css set `[hidden] { display: none !important; }` so we also need the `!important` here to be able to override the default hidden behavior on the sphinx rendered scikit-learn.org. See: https://github.com/scikit-learn/scikit-learn/issues/21755 */display: inline-block !important;position: relative;}#sk-container-id-1 div.sk-text-repr-fallback {display: none;}</style><div id=\"sk-container-id-1\" class=\"sk-top-container\"><div class=\"sk-text-repr-fallback\"><pre>MultinomialNB()</pre><b>In a Jupyter environment, please rerun this cell to show the HTML representation or trust the notebook. <br />On GitHub, the HTML representation is unable to render, please try loading this page with nbviewer.org.</b></div><div class=\"sk-container\" hidden><div class=\"sk-item\"><div class=\"sk-estimator sk-toggleable\"><input class=\"sk-toggleable__control sk-hidden--visually\" id=\"sk-estimator-id-1\" type=\"checkbox\" checked><label for=\"sk-estimator-id-1\" class=\"sk-toggleable__label sk-toggleable__label-arrow\">MultinomialNB</label><div class=\"sk-toggleable__content\"><pre>MultinomialNB()</pre></div></div></div></div></div>"
      ],
      "text/plain": [
       "MultinomialNB()"
      ]
     },
     "execution_count": 11,
     "metadata": {},
     "output_type": "execute_result"
    }
   ],
   "source": [
    "# Train the model using Naive Bayes algorithm\n",
    "\n",
    "model = MultinomialNB()\n",
    "model.fit(X_train_features, Y_train)"
   ]
  },
  {
   "cell_type": "code",
   "execution_count": 12,
   "id": "f4c8c35f",
   "metadata": {},
   "outputs": [
    {
     "name": "stdout",
     "output_type": "stream",
     "text": [
      "Accuracy Score: 95.0%\n",
      "Precision Score: 95.65%\n",
      "Recall Score: 96.86%\n",
      "F1 Score: 96.25%\n"
     ]
    }
   ],
   "source": [
    "# Make predictions on the training set\n",
    "\n",
    "prediction_train_set = model.predict(X_train_features)\n",
    "\n",
    "# Evaluation of model's performance on the training set\n",
    "\n",
    "accuracy_train = accuracy_score(Y_train, prediction_train_set)\n",
    "precision_train = precision_score(Y_train, prediction_train_set)\n",
    "recall_train = recall_score(Y_train, prediction_train_set)\n",
    "f1_train = f1_score(Y_train, prediction_train_set)\n",
    "\n",
    "print(\"Accuracy Score: {}%\".format(round(accuracy_train*100, 2)))\n",
    "print(\"Precision Score: {}%\".format(round(precision_train*100, 2)))\n",
    "print(\"Recall Score: {}%\".format(round(recall_train*100, 2)))\n",
    "print(\"F1 Score: {}%\".format(round(f1_train*100, 2)))"
   ]
  },
  {
   "cell_type": "code",
   "execution_count": 19,
   "id": "bb6c0b9b",
   "metadata": {},
   "outputs": [
    {
     "data": {
      "text/plain": [
       "<sklearn.metrics._plot.confusion_matrix.ConfusionMatrixDisplay at 0x166beb6bb50>"
      ]
     },
     "execution_count": 19,
     "metadata": {},
     "output_type": "execute_result"
    },
    {
     "data": {
      "image/png": "[encoded data removed]",
      "text/plain": [
       "<Figure size 640x480 with 2 Axes>"
      ]
     },
     "metadata": {},
     "output_type": "display_data"
    }
   ],
   "source": [
    "# Plot Confusion Matrix of the predictions on the train set\n",
    "\n",
    "cm = confusion_matrix(Y_train, prediction_train_set, labels = model.classes_)\n",
    "cm_disp = ConfusionMatrixDisplay(confusion_matrix = cm, display_labels = ['spam', 'ham'])\n",
    "cm_disp.plot()"
   ]
  },
  {
   "cell_type": "code",
   "execution_count": 13,
   "id": "629460fb",
   "metadata": {},
   "outputs": [
    {
     "name": "stdout",
     "output_type": "stream",
     "text": [
      "Accuracy Score: 95.0%\n",
      "Precision Score: 95.24%\n",
      "Recall Score: 97.56%\n",
      "F1 Score: 96.39%\n"
     ]
    }
   ],
   "source": [
    "# Make predictions on the testing set\n",
    "\n",
    "prediction_test_set = model.predict(X_test_features)\n",
    "\n",
    "# Evaluation of model's performance on the testing set\n",
    "\n",
    "accuracy_test = accuracy_score(Y_test, prediction_test_set)\n",
    "precision_test = precision_score(Y_test, prediction_test_set)\n",
    "recall_test = recall_score(Y_test, prediction_test_set)\n",
    "f1_test = f1_score(Y_test, prediction_test_set)\n",
    "\n",
    "print(\"Accuracy Score: {}%\".format(round(accuracy_test*100, 2)))\n",
    "print(\"Precision Score: {}%\".format(round(precision_test*100, 2)))\n",
    "print(\"Recall Score: {}%\".format(round(recall_test*100, 2)))\n",
    "print(\"F1 Score: {}%\".format(round(f1_test*100, 2)))"
   ]
  },
  {
   "cell_type": "code",
   "execution_count": 17,
   "id": "16e08360",
   "metadata": {},
   "outputs": [
    {
     "data": {
      "text/plain": [
       "<sklearn.metrics._plot.confusion_matrix.ConfusionMatrixDisplay at 0x166d01e2a10>"
      ]
     },
     "execution_count": 17,
     "metadata": {},
     "output_type": "execute_result"
    },
    {
     "data": {
      "image/png": "[encoded data removed]",
      "text/plain": [
       "<Figure size 640x480 with 2 Axes>"
      ]
     },
     "metadata": {},
     "output_type": "display_data"
    }
   ],
   "source": [
    "# Plot Confusion Matrix of the predictions on the test set\n",
    "\n",
    "cm = confusion_matrix(Y_test, prediction_test_set, labels = model.classes_)\n",
    "cm_disp = ConfusionMatrixDisplay(confusion_matrix = cm, display_labels = ['spam', 'ham'])\n",
    "cm_disp.plot()"
   ]
  },
  {
   "cell_type": "code",
   "execution_count": 155,
   "id": "6d84086e",
   "metadata": {
    "scrolled": true
   },
   "outputs": [
    {
     "name": "stdout",
     "output_type": "stream",
     "text": [
      "The SMS is a Spam\n"
     ]
    }
   ],
   "source": [
    "# Building a predictive system\n",
    "\n",
    "sample_sms = [\"Sumali na sa pinakamadali at pinakamabilis na paraan magkapera. Sali na dali!  http://fdsv03.contact\"]\n",
    "\n",
    "# Convert the sample SMS to a numerical representation using TF-IDF\n",
    "\n",
    "sample_sms_features = vectorizer.transform(sample_sms)\n",
    "\n",
    "# Make prediction on the sample SMS (Ham = 1 & Spam = 0)\n",
    "\n",
    "prediction_sample_sms = model.predict(sample_sms_features)\n",
    "\n",
    "if prediction_sample_sms == 0:\n",
    "    print(\"The SMS is a Spam\")\n",
    "else:\n",
    "    print(\"The SMS is a Ham\")"
   ]
  },
  {
   "cell_type": "code",
   "execution_count": 156,
   "id": "23b52df9",
   "metadata": {},
   "outputs": [],
   "source": [
    "# Create a pickel file of the model and TF-IDF Vectorizer\n",
    "\n",
    "pickle.dump(model, open(\"model.pkl\", \"wb\"))\n",
    "pickle.dump(vectorizer, open(\"vectorizer.pkl\", \"wb\"))"
   ]
  },
  {
   "cell_type": "code",
   "execution_count": null,
   "id": "9f7ba3f5",
   "metadata": {},
   "outputs": [],
   "source": []
  }
 ],
 "metadata": {
  "kernelspec": {
   "display_name": "Python 3 (ipykernel)",
   "language": "python",
   "name": "python3"
  },
  "language_info": {
   "codemirror_mode": {
    "name": "ipython",
    "version": 3
   },
   "file_extension": ".py",
   "mimetype": "text/x-python",
   "name": "python",
   "nbconvert_exporter": "python",
   "pygments_lexer": "ipython3",
   "version": "3.11.1"
  }
 },
 "nbformat": 4,
 "nbformat_minor": 5
}
